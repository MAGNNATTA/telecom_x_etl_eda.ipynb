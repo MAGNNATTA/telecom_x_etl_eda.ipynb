{
  "nbformat": 4,
  "nbformat_minor": 0,
  "metadata": {
    "colab": {
      "private_outputs": true,
      "provenance": [],
      "include_colab_link": true
    },
    "kernelspec": {
      "name": "python3",
      "display_name": "Python 3"
    },
    "language_info": {
      "name": "python"
    }
  },
  "cells": [
    {
      "cell_type": "markdown",
      "metadata": {
        "id": "view-in-github",
        "colab_type": "text"
      },
      "source": [
        "<a href=\"https://colab.research.google.com/github/MAGNNATTA/telecom_x_etl_eda.ipynb/blob/main/Telecom_x_etl_eda.ipynb\" target=\"_parent\"><img src=\"https://colab.research.google.com/assets/colab-badge.svg\" alt=\"Open In Colab\"/></a>"
      ]
    },
    {
      "cell_type": "code",
      "source": [
        "import requests\n",
        "import pandas as pd\n",
        "\n",
        "url = \"https://raw.githubusercontent.com/sthemonica/alura-voz/refs/heads/main/Dados/Telco-Customer-Churn.json\"\n",
        "\n",
        "response = requests.get(url)\n",
        "data = response.json()\n",
        "\n",
        "df = pd.DataFrame(data)\n",
        "\n",
        "df"
      ],
      "metadata": {
        "id": "KnucfnlB7YUE"
      },
      "execution_count": null,
      "outputs": []
    },
    {
      "cell_type": "code",
      "source": [
        "import pandas as pd\n",
        "df_plano = pd.json_normalize(data)\n",
        "df_plano"
      ],
      "metadata": {
        "id": "kgF8LQIC8KrV"
      },
      "execution_count": null,
      "outputs": []
    },
    {
      "cell_type": "code",
      "source": [
        "df_plano.info()"
      ],
      "metadata": {
        "id": "MaDx7S4m8Ud1"
      },
      "execution_count": null,
      "outputs": []
    },
    {
      "cell_type": "code",
      "source": [
        "# Verifique se há valores únicos em cada coluna.\n",
        "for col in df_plano.columns:\n",
        "  print(f\"valores únicos en la columna'{col}': {df_plano[col].nunique()}\")\n",
        "  if df_plano[col].nunique() < 50: # Imprima os valores apenas se não forem muitos.\n",
        "    print(df_plano[col].unique())\n",
        "    print('-' * 50)"
      ],
      "metadata": {
        "id": "nrSnA0M28nBi"
      },
      "execution_count": null,
      "outputs": []
    },
    {
      "cell_type": "code",
      "source": [
        "#Duplicados\n",
        "print(\"Numero de duplicados\", df_plano.duplicated().sum())"
      ],
      "metadata": {
        "id": "O1G_iRTv8yN3"
      },
      "execution_count": null,
      "outputs": []
    },
    {
      "cell_type": "code",
      "source": [
        "# Nulos\n",
        "print(\"Numero de Nulos\", df_plano.isnull().sum())"
      ],
      "metadata": {
        "id": "w4ssSxE-9Q_0"
      },
      "execution_count": null,
      "outputs": []
    },
    {
      "cell_type": "code",
      "source": [
        "# Vazios ou em branco\n",
        "df_plano.apply(lambda x: x.astype(str).str.strip() == '').sum()"
      ],
      "metadata": {
        "id": "9prUWunB9TqT"
      },
      "execution_count": null,
      "outputs": []
    },
    {
      "cell_type": "code",
      "source": [
        "#Alterando a coluna \"account.Charges.Total\" para Float\n",
        "\n",
        "df_plano['account.Charges.Total'] = pd.to_numeric(df_plano['account.Charges.Total'], errors='coerce')\n",
        "print(df_plano['account.Charges.Total'].dtype)"
      ],
      "metadata": {
        "id": "GC6MESB69eIm"
      },
      "execution_count": null,
      "outputs": []
    },
    {
      "cell_type": "code",
      "source": [
        "# Eliminando as colunas de Churn\n",
        "\n",
        "df_plano = df_plano[df_plano['Churn'].str.strip() != '']\n",
        "print(\"Número de filas después de eliminar las vacías en 'Churn':\", len(df_plano))"
      ],
      "metadata": {
        "id": "EesHiL1q9wM_"
      },
      "execution_count": null,
      "outputs": []
    },
    {
      "cell_type": "code",
      "source": [
        "# Vazios ou em branco\n",
        "df_plano.apply(lambda x: x.astype(str).str.strip() == '').sum()"
      ],
      "metadata": {
        "id": "YGdvdkwD95HG"
      },
      "execution_count": null,
      "outputs": []
    },
    {
      "cell_type": "code",
      "source": [
        "df_plano = df_plano.drop('Total.Day', errors='ignore')"
      ],
      "metadata": {
        "id": "8Hu_5_8l9_RT"
      },
      "execution_count": null,
      "outputs": []
    },
    {
      "cell_type": "code",
      "source": [
        "# Calculando os gastos diários\n",
        "df_plano['Total.Day'] = ((df_plano['account.Charges.Total'] / df_plano['customer.tenure']) /30 ).round(2)\n",
        "\n",
        "# Inserindo a coluna na posição 19\n",
        "df_plano.insert(19, 'Total.Day', df_plano.pop('Total.Day'))"
      ],
      "metadata": {
        "id": "st19d3EV-P5c"
      },
      "execution_count": null,
      "outputs": []
    },
    {
      "cell_type": "code",
      "source": [
        "df_plano"
      ],
      "metadata": {
        "id": "kppU2wPe-ZGI"
      },
      "execution_count": null,
      "outputs": []
    },
    {
      "cell_type": "code",
      "source": [
        "import plotly.express as px"
      ],
      "metadata": {
        "id": "5nW4uZnO-mgv"
      },
      "execution_count": null,
      "outputs": []
    },
    {
      "cell_type": "code",
      "source": [
        "px.histogram(df_plano, x = 'customer.gender', text_auto = True, color = 'Churn', barmode = 'group')"
      ],
      "metadata": {
        "id": "7paasphP-zJX"
      },
      "execution_count": null,
      "outputs": []
    },
    {
      "cell_type": "code",
      "source": [
        "px.histogram(df_plano, x = 'customer.SeniorCitizen', text_auto = True, color = 'Churn', barmode = 'group')"
      ],
      "metadata": {
        "id": "BE_9ndvQ-3G2"
      },
      "execution_count": null,
      "outputs": []
    },
    {
      "cell_type": "code",
      "source": [
        "px.histogram(df_plano, x = 'customer.tenure', text_auto = True, color = 'Churn', barmode = 'group')"
      ],
      "metadata": {
        "collapsed": true,
        "id": "z4-fJBlm_GKC"
      },
      "execution_count": null,
      "outputs": []
    },
    {
      "cell_type": "code",
      "source": [
        "# Agrupar por tenure e Churn\n",
        "df_grouped = df_plano.groupby(['customer.tenure', 'Churn']).size().unstack(fill_value=0)\n",
        "\n",
        "# Calcular a % de churn por tenure\n",
        "df_grouped['churn_rate'] = (df_grouped.get('Yes', 0) / df_grouped.sum(axis=1)) * 100\n",
        "\n",
        "# Mostrar o resultado\n",
        "print(df_grouped[['churn_rate']])\n"
      ],
      "metadata": {
        "id": "FLnMCQhw_lr4"
      },
      "execution_count": null,
      "outputs": []
    },
    {
      "cell_type": "code",
      "source": [
        "fig = px.line(df_grouped.reset_index(),\n",
        "              x='customer.tenure',\n",
        "              y='churn_rate',\n",
        "              markers=True,\n",
        "              title='Taxa de Churn (%) por Tenure')\n",
        "fig.show()"
      ],
      "metadata": {
        "id": "oN5T1VTZ_qFP"
      },
      "execution_count": null,
      "outputs": []
    },
    {
      "cell_type": "code",
      "source": [
        "px.scatter(df_plano,\n",
        "           x=\"customer.tenure\",\n",
        "           y=\"account.Charges.Monthly\",\n",
        "           color=\"Churn\",\n",
        "           title=\"Tenure vs Encargos mensais por Churn\")"
      ],
      "metadata": {
        "id": "Q7HrIPra_3ow"
      },
      "execution_count": null,
      "outputs": []
    },
    {
      "cell_type": "code",
      "source": [
        "px.histogram(df_plano, x = 'account.Contract', text_auto = True, color = 'Churn', barmode = 'group')"
      ],
      "metadata": {
        "id": "SJr8jT2O_6Uu"
      },
      "execution_count": null,
      "outputs": []
    },
    {
      "cell_type": "code",
      "source": [
        "px.box(df_plano, x = 'Churn', y = 'account.Charges.Monthly', color = 'Churn')"
      ],
      "metadata": {
        "id": "9mp9dFl9AI51"
      },
      "execution_count": null,
      "outputs": []
    },
    {
      "cell_type": "code",
      "source": [
        "px.histogram(df_plano, x = 'phone.PhoneService',  text_auto = True, color = 'Churn', barmode = 'group')"
      ],
      "metadata": {
        "id": "EMu7F3PlAOTf"
      },
      "execution_count": null,
      "outputs": []
    },
    {
      "cell_type": "code",
      "source": [
        "px.histogram(df_plano, x = 'internet.InternetService',  text_auto = True, color = 'Churn', barmode = 'group')"
      ],
      "metadata": {
        "id": "DhF0PpzBAX8H"
      },
      "execution_count": null,
      "outputs": []
    },
    {
      "cell_type": "code",
      "source": [
        "px.histogram(df_plano, x = 'internet.StreamingTV',  text_auto = True, color = 'Churn', barmode = 'group')"
      ],
      "metadata": {
        "id": "XB2LGNg2Akv7"
      },
      "execution_count": null,
      "outputs": []
    },
    {
      "cell_type": "code",
      "source": [
        "px.histogram(df_plano, x = 'account.PaymentMethod',  text_auto = True, color = 'Churn', barmode = 'group')"
      ],
      "metadata": {
        "id": "9BdihWOyAxju"
      },
      "execution_count": null,
      "outputs": []
    },
    {
      "cell_type": "code",
      "source": [],
      "metadata": {
        "id": "w8EIxQ0tX9hs"
      },
      "execution_count": null,
      "outputs": []
    },
    {
      "cell_type": "code",
      "source": [
        "\"\"\"\n",
        "Relatório Final – Análise de Churn\n",
        "\n",
        "Introdução:\n",
        "A evasão de clientes é...\n",
        "\"\"\""
      ],
      "metadata": {
        "id": "6qjUYyKCTXY0"
      },
      "execution_count": null,
      "outputs": []
    },
    {
      "cell_type": "markdown",
      "source": [
        "Relatório Final — Análise de Churn de Clientes\n",
        "📌 Introdução\n",
        "A evasão de clientes (churn) é um desafio constante no setor de telecomunicações. Compreender os fatores que levam os clientes a cancelar seus serviços é essencial para criar estratégias eficazes de retenção. O objetivo desta análise é aplicar um processo completo de ETL (Extração, Transformação e Carga) e EDA (Análise Exploratória de Dados) com Python, a fim de identificar padrões relevantes e propor soluções que reduzam o churn.\n",
        "\n",
        "⚙️ Processo de ETL\n",
        "🗂 Extração e Importação\n",
        "Os dados foram carregados em um DataFrame com Pandas. Foram feitas inspeções iniciais com métodos como df.info() e df.describe() para entender a estrutura e qualidade do conjunto de dados.\n",
        "\n",
        "🧼 Limpeza e Transformações\n",
        "Tratamento de nulos e brancos: Substituímos espaços em branco por NaN e limpamos os dados vazios da variável alvo Churn.\n",
        "Conversão de dados: Campos como 'account.Charges.Total' foram convertidos para tipo float com tratamento de erros.\n",
        "Remoção de ruído: Eliminação de colunas desnecessárias como 'Total.Day' original.\n",
        "Criação de nova variável: Criamos Total.Day, representando o gasto diário médio do cliente, normalizando o valor por mês e por dia.\n",
        "Reorganização e integridade: Checamos e removemos duplicatas e reordenamos colunas para melhor leitura.\n",
        "🔍 Análise Exploratória (EDA)\n",
        "Utilizamos Plotly Express para gerar gráficos interativos e identificar padrões relevantes.\n",
        "\n",
        "🎯 Principais Insights Visuais\n",
        "Tenure: A taxa de churn é mais alta nos primeiros 12 meses e estabiliza com o tempo. Isso foi confirmado com um gráfico de linha de churn por mês de contrato.\n",
        "Encargos Mensais: Clientes que cancelam tendem a ter mensalidades mais altas, como mostrado em um boxplot.\n",
        "Tipo de Contrato: Contratos mensais apresentaram os maiores índices de churn, enquanto contratos anuais/bianuais indicaram maior fidelidade.\n",
        "Serviço de Internet: Clientes com fibra óptica mostraram maior propensão ao churn.\n",
        "Streaming de TV: Leve aumento no churn entre usuários desse serviço.\n",
        "Forma de Pagamento: Pagamento automático (ex: débito) está associado a menor churn. Já clientes que utilizam boleto ou fatura online mostraram maior evasão.\n",
        "✅ Conclusão\n",
        "Através do processo de ETL e EDA foi possível:\n",
        "\n",
        "Identificar que o perfil de maior risco de churn envolve clientes com contrato mensal, menor tempo de casa e encargos mensais altos.\n",
        "Observar que certos serviços e métodos de pagamento influenciam diretamente na permanência do cliente.\n",
        "Produzir gráficos explicativos que reforçam a correlação entre variáveis e o comportamento de cancelamento.\n",
        "💡 Recomendações Estratégicas\n",
        "Foco nos primeiros 12 meses: Criar campanhas de onboarding e retenção para novos clientes.\n",
        "Incentivar contratos mais longos: Oferecer descontos ou benefícios para migração de planos mensais para anuais.\n",
        "Monitorar valores altos de cobrança: Clientes com mensalidades elevadas devem ser acompanhados de perto.\n",
        "Promover pagamento automático: Campanhas para incentivar esse método com vantagens exclusivas.\n",
        "Análise contínua de serviços extras: Streaming, serviços de internet e telefonia devem ser otimizados com base na satisfação e comportamento de churn.\n",
        "Ferramentas utilizadas: Python, Pandas, Plotly, Matplotlib, Seaborn\n",
        "Técnicas aplicadas: Limpeza de dados, normalização, visualização interativa, agrupamentos e análise percentual."
      ],
      "metadata": {
        "id": "LVhXk9JVYAfP"
      }
    }
  ]
}